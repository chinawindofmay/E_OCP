{
 "cells": [
  {
   "cell_type": "code",
   "execution_count": 1,
   "id": "bcdbabad",
   "metadata": {},
   "outputs": [],
   "source": [
    "import chama\n",
    "import pandas as pd\n",
    "import numpy as np"
   ]
  },
  {
   "cell_type": "markdown",
   "id": "67bc0e91",
   "metadata": {},
   "source": [
    "# 1. simulations\n",
    "类似于选择摄像头，求解最大监控范围类的问题，不需要做仿真( Note that if the sensor placement objective is to maximize geographic coverage, simulations are not required)"
   ]
  },
  {
   "cell_type": "markdown",
   "id": "6346d3b1",
   "metadata": {},
   "source": [
    "# 2. Sensor Technology \n",
    "类似于选择摄像头，求解最大监控范围类的问题，不需要对传感器做定义"
   ]
  },
  {
   "cell_type": "markdown",
   "id": "bd052ea4",
   "metadata": {},
   "source": [
    "#  3. Impact assessment\n",
    "\n",
    "* 数据准备， 生成含有 **‘Sensor’and ‘Coverage’** 两列的 **DataFrame**，  **‘Sensor’** 为传感器编号， **‘Coverage’**为传感器可以监控的区域编号列表\n",
    "\n",
    "The Coverage Formulation requires as input a DataFrame with two columns: ‘Sensor’, and ‘Coverage’, where the ‘Coverage’ is a list of entities covered by each sensor. The formulation optimizes a sensor layout that maximizes the coverage of the entities contained in this DataFrame. An entity to be covered might include scenarios, scenario-time pairs, or geographic locations."
   ]
  },
  {
   "cell_type": "code",
   "execution_count": 2,
   "id": "7a832b10",
   "metadata": {},
   "outputs": [
    {
     "data": {
      "text/html": [
       "<div>\n",
       "<style scoped>\n",
       "    .dataframe tbody tr th:only-of-type {\n",
       "        vertical-align: middle;\n",
       "    }\n",
       "\n",
       "    .dataframe tbody tr th {\n",
       "        vertical-align: top;\n",
       "    }\n",
       "\n",
       "    .dataframe thead th {\n",
       "        text-align: right;\n",
       "    }\n",
       "</style>\n",
       "<table border=\"1\" class=\"dataframe\">\n",
       "  <thead>\n",
       "    <tr style=\"text-align: right;\">\n",
       "      <th></th>\n",
       "      <th>Sensor</th>\n",
       "      <th>Coverage</th>\n",
       "    </tr>\n",
       "  </thead>\n",
       "  <tbody>\n",
       "    <tr>\n",
       "      <th>0</th>\n",
       "      <td>0</td>\n",
       "      <td>[8372, 8373, 8417, 8418, 8457, 8528, 8529, 853...</td>\n",
       "    </tr>\n",
       "    <tr>\n",
       "      <th>1</th>\n",
       "      <td>1</td>\n",
       "      <td>[8359, 8388, 8389, 8390, 8391, 8392, 8393, 839...</td>\n",
       "    </tr>\n",
       "    <tr>\n",
       "      <th>2</th>\n",
       "      <td>2</td>\n",
       "      <td>[8363, 8400, 8401, 8402, 8403, 8404, 8405, 840...</td>\n",
       "    </tr>\n",
       "    <tr>\n",
       "      <th>3</th>\n",
       "      <td>3</td>\n",
       "      <td>[8323, 8324, 8325, 8326, 8327, 8328, 8329, 833...</td>\n",
       "    </tr>\n",
       "    <tr>\n",
       "      <th>4</th>\n",
       "      <td>4</td>\n",
       "      <td>[8263, 8264, 8265, 8266, 8267, 8294, 8295, 829...</td>\n",
       "    </tr>\n",
       "    <tr>\n",
       "      <th>...</th>\n",
       "      <td>...</td>\n",
       "      <td>...</td>\n",
       "    </tr>\n",
       "    <tr>\n",
       "      <th>483</th>\n",
       "      <td>483</td>\n",
       "      <td>[35, 47, 55, 56, 65, 66, 67, 68, 69, 78, 79, 8...</td>\n",
       "    </tr>\n",
       "    <tr>\n",
       "      <th>484</th>\n",
       "      <td>484</td>\n",
       "      <td>[29, 35, 36, 55, 56, 57, 58, 67, 68, 69, 70, 7...</td>\n",
       "    </tr>\n",
       "    <tr>\n",
       "      <th>485</th>\n",
       "      <td>485</td>\n",
       "      <td>[0, 1, 2, 3, 4, 5, 6, 7, 8, 9, 10, 11, 12, 13,...</td>\n",
       "    </tr>\n",
       "    <tr>\n",
       "      <th>486</th>\n",
       "      <td>486</td>\n",
       "      <td>[7905, 7906, 7907, 7908, 7947, 7948, 7949, 795...</td>\n",
       "    </tr>\n",
       "    <tr>\n",
       "      <th>487</th>\n",
       "      <td>487</td>\n",
       "      <td>[4994, 4995, 4996, 5029, 5030, 5031, 5032, 503...</td>\n",
       "    </tr>\n",
       "  </tbody>\n",
       "</table>\n",
       "<p>488 rows × 2 columns</p>\n",
       "</div>"
      ],
      "text/plain": [
       "     Sensor                                           Coverage\n",
       "0         0  [8372, 8373, 8417, 8418, 8457, 8528, 8529, 853...\n",
       "1         1  [8359, 8388, 8389, 8390, 8391, 8392, 8393, 839...\n",
       "2         2  [8363, 8400, 8401, 8402, 8403, 8404, 8405, 840...\n",
       "3         3  [8323, 8324, 8325, 8326, 8327, 8328, 8329, 833...\n",
       "4         4  [8263, 8264, 8265, 8266, 8267, 8294, 8295, 829...\n",
       "..      ...                                                ...\n",
       "483     483  [35, 47, 55, 56, 65, 66, 67, 68, 69, 78, 79, 8...\n",
       "484     484  [29, 35, 36, 55, 56, 57, 58, 67, 68, 69, 70, 7...\n",
       "485     485  [0, 1, 2, 3, 4, 5, 6, 7, 8, 9, 10, 11, 12, 13,...\n",
       "486     486  [7905, 7906, 7907, 7908, 7947, 7948, 7949, 795...\n",
       "487     487  [4994, 4995, 4996, 5029, 5030, 5031, 5032, 503...\n",
       "\n",
       "[488 rows x 2 columns]"
      ]
     },
     "execution_count": 2,
     "metadata": {},
     "output_type": "execute_result"
    }
   ],
   "source": [
    "# 读取摄像头信息\n",
    "camera_monitor_info = np.load('./price_matrix_488_1000.npz')['list_array']\n",
    "# # 生成摄像头ID\n",
    "Sensors = np.arange(0, camera_monitor_info.shape[0])\n",
    "# # 一共有100个区域， 随机生成每个摄像头所能看到的区域信息\n",
    "# np.random.seed(10)\n",
    "# Scenarios = np.random.randint(0,2,(10,100))\n",
    "# # 生成DataFrame\n",
    "# sensors = []\n",
    "scenarios = []\n",
    "for i in range(len(Sensors)):\n",
    "    #sensor = Sensors[i]\n",
    "    scenario = np.where(camera_monitor_info[i] == 1)[0].astype('str')\n",
    "    #sensors.append(sensor)\n",
    "    scenarios.append(list(scenario))\n",
    "\n",
    "# # 生成监控区域表格, scenario coverage\n",
    "scenario_cov_df = pd.DataFrame({\"Sensor\": Sensors, \"Coverage\":scenarios})\n",
    "scenario_cov_df"
   ]
  },
  {
   "cell_type": "markdown",
   "id": "8431ca33",
   "metadata": {},
   "source": [
    "# 4. Optimization"
   ]
  },
  {
   "cell_type": "code",
   "execution_count": 3,
   "id": "9946322f",
   "metadata": {},
   "outputs": [],
   "source": [
    "coverageform = chama.optimize.CoverageFormulation()\n",
    "results = coverageform.solve(coverage=scenario_cov_df, sensor_budget=100, use_sensor_cost=False)"
   ]
  },
  {
   "cell_type": "code",
   "execution_count": 4,
   "id": "2c1be41a",
   "metadata": {},
   "outputs": [
    {
     "data": {
      "text/plain": [
       "array([  3,   4,   6,   8,   9,  15,  17,  18,  19,  21,  27,  32,  34,\n",
       "        35,  37,  49,  51,  52,  61,  66,  79,  80,  82,  84,  85,  89,\n",
       "        93,  96,  99, 101, 108, 109, 111, 113, 117, 118, 121, 127, 141,\n",
       "       143, 150, 153, 155, 162, 165, 175, 177, 178, 181, 184, 185, 188,\n",
       "       197, 200, 210, 211, 219, 221, 222, 226, 232, 234, 246, 254, 255,\n",
       "       257, 265, 269, 270, 279, 283, 284, 294, 305, 306, 314, 315, 317,\n",
       "       319, 321, 324, 331, 342, 366, 395, 400, 402, 403, 412, 415, 457,\n",
       "       462, 463, 474, 477, 478, 480, 482, 484, 486])"
      ]
     },
     "execution_count": 4,
     "metadata": {},
     "output_type": "execute_result"
    }
   ],
   "source": [
    "np.array(results['Sensors'])"
   ]
  },
  {
   "cell_type": "markdown",
   "id": "57d79bbf",
   "metadata": {},
   "source": [
    "#  现有方式选点"
   ]
  },
  {
   "cell_type": "code",
   "execution_count": 5,
   "id": "abeb9bc2",
   "metadata": {},
   "outputs": [],
   "source": [
    "A_matrix = np.load('./price_matrix_488_1000.npz')['list_array'].T  # 转置成列为供给点\n",
    "camera_idx = np.arange(0, A_matrix.shape[1], 1)\n",
    "choose_camera = np.zeros((488,))\n",
    "cur_visible_area = np.zeros((A_matrix.shape[0], ))\n",
    "\n",
    "for i in range(100):\n",
    "    choose_idx = np.argmax(np.count_nonzero(A_matrix.T + cur_visible_area > 0, axis=1))\n",
    "    cur_visible_area += A_matrix.T[choose_idx]\n",
    "    choose_camera[choose_idx] = 1  # 选择该摄像头区域\n",
    "    # 选过的点对应的可见区域赋值为0\n",
    "    A_matrix[:, choose_idx] = 0"
   ]
  },
  {
   "cell_type": "code",
   "execution_count": 21,
   "id": "3f9d6b08",
   "metadata": {},
   "outputs": [
    {
     "data": {
      "text/plain": [
       "7660"
      ]
     },
     "execution_count": 21,
     "metadata": {},
     "output_type": "execute_result"
    }
   ],
   "source": [
    "len(np.where(np.sum(camera_monitor_info[results['Sensors']], axis=0) > 0)[0])"
   ]
  },
  {
   "cell_type": "code",
   "execution_count": 19,
   "id": "7abb7268",
   "metadata": {},
   "outputs": [
    {
     "data": {
      "text/plain": [
       "7578"
      ]
     },
     "execution_count": 19,
     "metadata": {},
     "output_type": "execute_result"
    }
   ],
   "source": [
    "len(np.where(np.sum(camera_monitor_info[choose_camera == 1], axis = 0) > 0)[0])"
   ]
  },
  {
   "cell_type": "markdown",
   "id": "116137ff",
   "metadata": {},
   "source": [
    "#  结果比对"
   ]
  },
  {
   "cell_type": "code",
   "execution_count": 6,
   "id": "d511962e",
   "metadata": {
    "scrolled": true
   },
   "outputs": [
    {
     "name": "stdout",
     "output_type": "stream",
     "text": [
      "摄像头总数488， 选择100个摄像头\n",
      "Chama cameras monitor area:7660.0\n",
      "Chama cameras selection:[  3   4   6   8   9  15  17  18  19  21  27  32  34  35  37  49  51  52\n",
      "  61  66  79  80  82  84  85  89  93  96  99 101 108 109 111 113 117 118\n",
      " 121 127 141 143 150 153 155 162 165 175 177 178 181 184 185 188 197 200\n",
      " 210 211 219 221 222 226 232 234 246 254 255 257 265 269 270 279 283 284\n",
      " 294 305 306 314 315 317 319 321 324 331 342 366 395 400 402 403 412 415\n",
      " 457 462 463 474 477 478 480 482 484 486]\n",
      "===========================================\n",
      "Original cameras monitor area:7578\n",
      "Original cameras selection:[  3   4   6   8   9  15  19  20  21  24  26  27  31  32  35  49  50  52\n",
      "  61  66  80  81  84  85  88  89  91  99 101 108 109 111 113 117 118 121\n",
      " 127 141 143 150 153 155 157 164 165 167 175 178 181 183 184 185 188 195\n",
      " 197 200 211 218 219 221 222 245 246 249 258 260 269 270 275 279 284 291\n",
      " 294 306 314 315 317 319 321 324 329 331 342 366 395 400 402 403 412 450\n",
      " 452 453 462 473 474 477 480 482 484 486]\n"
     ]
    }
   ],
   "source": [
    "print(\"摄像头总数488， 选择100个摄像头\")\n",
    "print(\"Chama cameras monitor area:{}\".format(np.array(results['Objective'])))\n",
    "print(\"Chama cameras selection:{}\".format(np.array(results['Sensors'])))\n",
    "print(\"===========================================\")\n",
    "print(\"Original cameras monitor area:{}\".format(np.where(cur_visible_area > 0)[0].shape[0]))\n",
    "print(\"Original cameras selection:{}\".format(np.where(choose_camera == 1)[0]))"
   ]
  },
  {
   "cell_type": "code",
   "execution_count": null,
   "id": "6a0d4a91",
   "metadata": {},
   "outputs": [],
   "source": []
  }
 ],
 "metadata": {
  "kernelspec": {
   "display_name": "Python 3 (ipykernel)",
   "language": "python",
   "name": "python3"
  },
  "language_info": {
   "codemirror_mode": {
    "name": "ipython",
    "version": 3
   },
   "file_extension": ".py",
   "mimetype": "text/x-python",
   "name": "python",
   "nbconvert_exporter": "python",
   "pygments_lexer": "ipython3",
   "version": "3.8.16"
  }
 },
 "nbformat": 4,
 "nbformat_minor": 5
}
